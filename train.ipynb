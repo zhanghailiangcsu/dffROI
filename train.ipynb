{
 "cells": [
  {
   "cell_type": "code",
   "execution_count": 1,
   "id": "e8858815",
   "metadata": {},
   "outputs": [],
   "source": [
    "from model.Build_Model import dffROIModel\n",
    "import numpy as np\n",
    "from model.data_process import getfeature,data_resize,getdata,randomize"
   ]
  },
  {
   "cell_type": "code",
   "execution_count": 2,
   "id": "671eb3bf",
   "metadata": {},
   "outputs": [],
   "source": [
    "def train(model,x_train, x2_train, y_train,\n",
    "          x_ver,x2_ver, y_ver,\n",
    "          epochs,batch_size):\n",
    "    history = model.fit([x_train, x2_train], y_train, epochs=epochs, \n",
    "                        batch_size=batch_size,\n",
    "                        validation_data = ([x_ver,x2_ver],y_ver))\n",
    "    history_dict = history.history\n",
    "    return model,history_dict"
   ]
  },
  {
   "cell_type": "code",
   "execution_count": 3,
   "id": "6fda2f4c",
   "metadata": {},
   "outputs": [
    {
     "name": "stdout",
     "output_type": "stream",
     "text": [
      "Epoch 1/50\n",
      "36/36 [==============================] - 1s 25ms/step - loss: 0.6228 - binary_accuracy: 0.7114 - TPR: 0.7889 - FPR: 0.3604 - val_loss: 0.5079 - val_binary_accuracy: 0.7360 - val_TPR: 0.0417 - val_FPR: 0.0000e+00\n",
      "Epoch 2/50\n",
      "36/36 [==============================] - 0s 12ms/step - loss: 0.5207 - binary_accuracy: 0.7053 - TPR: 0.0669 - FPR: 7.1053e-05 - val_loss: 0.4204 - val_binary_accuracy: 0.8000 - val_TPR: 0.2696 - val_FPR: 0.0000e+00\n",
      "Epoch 3/50\n",
      "36/36 [==============================] - 0s 11ms/step - loss: 0.3847 - binary_accuracy: 0.8398 - TPR: 0.5194 - FPR: 0.0171 - val_loss: 0.2776 - val_binary_accuracy: 0.8560 - val_TPR: 0.4862 - val_FPR: 0.0111\n",
      "Epoch 4/50\n",
      "36/36 [==============================] - 0s 10ms/step - loss: 0.2388 - binary_accuracy: 0.9070 - TPR: 0.7893 - FPR: 0.0379 - val_loss: 0.1757 - val_binary_accuracy: 0.9280 - val_TPR: 0.8288 - val_FPR: 0.0328\n",
      "Epoch 5/50\n",
      "36/36 [==============================] - 0s 10ms/step - loss: 0.1736 - binary_accuracy: 0.9336 - TPR: 0.8630 - FPR: 0.0297 - val_loss: 0.1526 - val_binary_accuracy: 0.9240 - val_TPR: 0.7522 - val_FPR: 0.0111\n",
      "Epoch 6/50\n",
      "36/36 [==============================] - 0s 10ms/step - loss: 0.1601 - binary_accuracy: 0.9334 - TPR: 0.8938 - FPR: 0.0388 - val_loss: 0.1189 - val_binary_accuracy: 0.9640 - val_TPR: 0.9625 - val_FPR: 0.0328\n",
      "Epoch 7/50\n",
      "36/36 [==============================] - 0s 10ms/step - loss: 0.1366 - binary_accuracy: 0.9480 - TPR: 0.9092 - FPR: 0.0338 - val_loss: 0.1046 - val_binary_accuracy: 0.9760 - val_TPR: 0.9708 - val_FPR: 0.0223\n",
      "Epoch 8/50\n",
      "36/36 [==============================] - 0s 10ms/step - loss: 0.1130 - binary_accuracy: 0.9655 - TPR: 0.9384 - FPR: 0.0230 - val_loss: 0.0999 - val_binary_accuracy: 0.9720 - val_TPR: 0.9417 - val_FPR: 0.0164\n",
      "Epoch 9/50\n",
      "36/36 [==============================] - 0s 11ms/step - loss: 0.1168 - binary_accuracy: 0.9552 - TPR: 0.9297 - FPR: 0.0328 - val_loss: 0.0898 - val_binary_accuracy: 0.9720 - val_TPR: 0.9583 - val_FPR: 0.0223\n",
      "Epoch 10/50\n",
      "36/36 [==============================] - 0s 10ms/step - loss: 0.1041 - binary_accuracy: 0.9579 - TPR: 0.9277 - FPR: 0.0251 - val_loss: 0.0873 - val_binary_accuracy: 0.9720 - val_TPR: 0.9417 - val_FPR: 0.0164\n",
      "Epoch 11/50\n",
      "36/36 [==============================] - 0s 9ms/step - loss: 0.1115 - binary_accuracy: 0.9573 - TPR: 0.9387 - FPR: 0.0338 - val_loss: 0.1024 - val_binary_accuracy: 0.9520 - val_TPR: 0.8497 - val_FPR: 0.0105\n",
      "Epoch 12/50\n",
      "36/36 [==============================] - 0s 9ms/step - loss: 0.0978 - binary_accuracy: 0.9599 - TPR: 0.9148 - FPR: 0.0201 - val_loss: 0.0840 - val_binary_accuracy: 0.9640 - val_TPR: 0.9096 - val_FPR: 0.0164\n",
      "Epoch 13/50\n",
      "36/36 [==============================] - 0s 10ms/step - loss: 0.1045 - binary_accuracy: 0.9591 - TPR: 0.9284 - FPR: 0.0268 - val_loss: 0.0771 - val_binary_accuracy: 0.9760 - val_TPR: 1.0000 - val_FPR: 0.0328\n",
      "Epoch 14/50\n",
      "36/36 [==============================] - 0s 10ms/step - loss: 0.0882 - binary_accuracy: 0.9656 - TPR: 0.9592 - FPR: 0.0307 - val_loss: 0.0749 - val_binary_accuracy: 0.9760 - val_TPR: 1.0000 - val_FPR: 0.0323\n",
      "Epoch 15/50\n",
      "36/36 [==============================] - 0s 10ms/step - loss: 0.0951 - binary_accuracy: 0.9601 - TPR: 0.9444 - FPR: 0.0325 - val_loss: 0.0764 - val_binary_accuracy: 0.9760 - val_TPR: 1.0000 - val_FPR: 0.0323\n",
      "Epoch 16/50\n",
      "36/36 [==============================] - 0s 10ms/step - loss: 0.1009 - binary_accuracy: 0.9598 - TPR: 0.9475 - FPR: 0.0378 - val_loss: 0.0659 - val_binary_accuracy: 0.9840 - val_TPR: 1.0000 - val_FPR: 0.0217\n",
      "Epoch 17/50\n",
      "36/36 [==============================] - 0s 10ms/step - loss: 0.0797 - binary_accuracy: 0.9672 - TPR: 0.9588 - FPR: 0.0275 - val_loss: 0.0946 - val_binary_accuracy: 0.9600 - val_TPR: 1.0000 - val_FPR: 0.0553\n",
      "Epoch 18/50\n",
      "36/36 [==============================] - 0s 9ms/step - loss: 0.1129 - binary_accuracy: 0.9584 - TPR: 0.9625 - FPR: 0.0419 - val_loss: 0.0542 - val_binary_accuracy: 0.9840 - val_TPR: 0.9833 - val_FPR: 0.0164\n",
      "Epoch 19/50\n",
      "36/36 [==============================] - 0s 9ms/step - loss: 0.0678 - binary_accuracy: 0.9718 - TPR: 0.9458 - FPR: 0.0164 - val_loss: 0.0671 - val_binary_accuracy: 0.9800 - val_TPR: 1.0000 - val_FPR: 0.0271\n",
      "Epoch 20/50\n",
      "36/36 [==============================] - 0s 10ms/step - loss: 0.0837 - binary_accuracy: 0.9622 - TPR: 0.9573 - FPR: 0.0370 - val_loss: 0.0491 - val_binary_accuracy: 0.9880 - val_TPR: 1.0000 - val_FPR: 0.0164\n",
      "Epoch 21/50\n",
      "36/36 [==============================] - 0s 11ms/step - loss: 0.0649 - binary_accuracy: 0.9773 - TPR: 0.9517 - FPR: 0.0128 - val_loss: 0.0481 - val_binary_accuracy: 0.9840 - val_TPR: 0.9833 - val_FPR: 0.0164\n",
      "Epoch 22/50\n",
      "36/36 [==============================] - 0s 10ms/step - loss: 0.0840 - binary_accuracy: 0.9631 - TPR: 0.9420 - FPR: 0.0255 - val_loss: 0.0485 - val_binary_accuracy: 0.9800 - val_TPR: 0.9708 - val_FPR: 0.0164\n",
      "Epoch 23/50\n",
      "36/36 [==============================] - 0s 10ms/step - loss: 0.0675 - binary_accuracy: 0.9779 - TPR: 0.9658 - FPR: 0.0162 - val_loss: 0.0450 - val_binary_accuracy: 0.9880 - val_TPR: 1.0000 - val_FPR: 0.0164\n",
      "Epoch 24/50\n",
      "36/36 [==============================] - 0s 9ms/step - loss: 0.0659 - binary_accuracy: 0.9783 - TPR: 0.9726 - FPR: 0.0187 - val_loss: 0.0462 - val_binary_accuracy: 0.9800 - val_TPR: 0.9708 - val_FPR: 0.0164\n",
      "Epoch 25/50\n",
      "36/36 [==============================] - 0s 9ms/step - loss: 0.0807 - binary_accuracy: 0.9707 - TPR: 0.9611 - FPR: 0.0253 - val_loss: 0.0467 - val_binary_accuracy: 0.9800 - val_TPR: 0.9708 - val_FPR: 0.0164\n",
      "Epoch 26/50\n",
      "36/36 [==============================] - 0s 10ms/step - loss: 0.0694 - binary_accuracy: 0.9766 - TPR: 0.9610 - FPR: 0.0157 - val_loss: 0.0468 - val_binary_accuracy: 0.9880 - val_TPR: 1.0000 - val_FPR: 0.0164\n",
      "Epoch 27/50\n",
      "36/36 [==============================] - 0s 11ms/step - loss: 0.0621 - binary_accuracy: 0.9775 - TPR: 0.9661 - FPR: 0.0155 - val_loss: 0.0429 - val_binary_accuracy: 0.9840 - val_TPR: 0.9833 - val_FPR: 0.0164\n",
      "Epoch 28/50\n",
      "36/36 [==============================] - 0s 11ms/step - loss: 0.0582 - binary_accuracy: 0.9771 - TPR: 0.9617 - FPR: 0.0169 - val_loss: 0.0451 - val_binary_accuracy: 0.9800 - val_TPR: 0.9542 - val_FPR: 0.0111\n",
      "Epoch 29/50\n",
      "36/36 [==============================] - ETA: 0s - loss: 0.0769 - binary_accuracy: 0.9657 - TPR: 0.9366 - FPR: 0.018 - 0s 10ms/step - loss: 0.0740 - binary_accuracy: 0.9677 - TPR: 0.9423 - FPR: 0.0186 - val_loss: 0.0391 - val_binary_accuracy: 0.9880 - val_TPR: 1.0000 - val_FPR: 0.0164\n",
      "Epoch 30/50\n",
      "36/36 [==============================] - 0s 8ms/step - loss: 0.0654 - binary_accuracy: 0.9746 - TPR: 0.9622 - FPR: 0.0203 - val_loss: 0.0381 - val_binary_accuracy: 0.9880 - val_TPR: 1.0000 - val_FPR: 0.0164\n",
      "Epoch 31/50\n",
      "36/36 [==============================] - 0s 9ms/step - loss: 0.0589 - binary_accuracy: 0.9802 - TPR: 0.9685 - FPR: 0.0145 - val_loss: 0.0375 - val_binary_accuracy: 0.9880 - val_TPR: 1.0000 - val_FPR: 0.0164\n",
      "Epoch 32/50\n",
      "36/36 [==============================] - 0s 9ms/step - loss: 0.0625 - binary_accuracy: 0.9794 - TPR: 0.9693 - FPR: 0.0187 - val_loss: 0.0372 - val_binary_accuracy: 0.9880 - val_TPR: 1.0000 - val_FPR: 0.0164\n",
      "Epoch 33/50\n",
      "36/36 [==============================] - 0s 9ms/step - loss: 0.0447 - binary_accuracy: 0.9855 - TPR: 0.9854 - FPR: 0.0148 - val_loss: 0.0360 - val_binary_accuracy: 0.9880 - val_TPR: 1.0000 - val_FPR: 0.0164\n",
      "Epoch 34/50\n",
      "36/36 [==============================] - 0s 10ms/step - loss: 0.0591 - binary_accuracy: 0.9762 - TPR: 0.9835 - FPR: 0.0281 - val_loss: 0.0390 - val_binary_accuracy: 0.9880 - val_TPR: 1.0000 - val_FPR: 0.0164\n",
      "Epoch 35/50\n",
      "36/36 [==============================] - 0s 9ms/step - loss: 0.0553 - binary_accuracy: 0.9817 - TPR: 0.9768 - FPR: 0.0148 - val_loss: 0.0379 - val_binary_accuracy: 0.9840 - val_TPR: 0.9833 - val_FPR: 0.0164\n",
      "Epoch 36/50\n",
      "36/36 [==============================] - 0s 9ms/step - loss: 0.0593 - binary_accuracy: 0.9772 - TPR: 0.9704 - FPR: 0.0197 - val_loss: 0.0383 - val_binary_accuracy: 0.9880 - val_TPR: 1.0000 - val_FPR: 0.0164\n",
      "Epoch 37/50\n",
      "36/36 [==============================] - 0s 9ms/step - loss: 0.0527 - binary_accuracy: 0.9856 - TPR: 0.9847 - FPR: 0.0143 - val_loss: 0.0350 - val_binary_accuracy: 0.9880 - val_TPR: 1.0000 - val_FPR: 0.0164\n",
      "Epoch 38/50\n",
      "36/36 [==============================] - 0s 9ms/step - loss: 0.0567 - binary_accuracy: 0.9757 - TPR: 0.9662 - FPR: 0.0197 - val_loss: 0.0393 - val_binary_accuracy: 0.9880 - val_TPR: 1.0000 - val_FPR: 0.0164\n",
      "Epoch 39/50\n",
      "36/36 [==============================] - 0s 10ms/step - loss: 0.0513 - binary_accuracy: 0.9802 - TPR: 0.9683 - FPR: 0.0155 - val_loss: 0.0329 - val_binary_accuracy: 0.9880 - val_TPR: 1.0000 - val_FPR: 0.0164\n",
      "Epoch 40/50\n",
      "36/36 [==============================] - 0s 9ms/step - loss: 0.0587 - binary_accuracy: 0.9801 - TPR: 0.9842 - FPR: 0.0227 - val_loss: 0.0334 - val_binary_accuracy: 0.9920 - val_TPR: 1.0000 - val_FPR: 0.0111\n",
      "Epoch 41/50\n",
      "36/36 [==============================] - 0s 9ms/step - loss: 0.0519 - binary_accuracy: 0.9794 - TPR: 0.9672 - FPR: 0.0142 - val_loss: 0.0309 - val_binary_accuracy: 0.9920 - val_TPR: 1.0000 - val_FPR: 0.0111\n",
      "Epoch 42/50\n",
      "36/36 [==============================] - 0s 10ms/step - loss: 0.0449 - binary_accuracy: 0.9855 - TPR: 0.9819 - FPR: 0.0131 - val_loss: 0.0338 - val_binary_accuracy: 0.9880 - val_TPR: 1.0000 - val_FPR: 0.0164\n",
      "Epoch 43/50\n",
      "36/36 [==============================] - 0s 10ms/step - loss: 0.0573 - binary_accuracy: 0.9759 - TPR: 0.9728 - FPR: 0.0217 - val_loss: 0.0396 - val_binary_accuracy: 0.9880 - val_TPR: 1.0000 - val_FPR: 0.0164\n",
      "Epoch 44/50\n",
      "36/36 [==============================] - 0s 10ms/step - loss: 0.0549 - binary_accuracy: 0.9801 - TPR: 0.9810 - FPR: 0.0206 - val_loss: 0.0342 - val_binary_accuracy: 0.9880 - val_TPR: 1.0000 - val_FPR: 0.0164\n",
      "Epoch 45/50\n",
      "36/36 [==============================] - 0s 10ms/step - loss: 0.0569 - binary_accuracy: 0.9785 - TPR: 0.9802 - FPR: 0.0219 - val_loss: 0.0391 - val_binary_accuracy: 0.9880 - val_TPR: 1.0000 - val_FPR: 0.0164\n",
      "Epoch 46/50\n",
      "36/36 [==============================] - 0s 10ms/step - loss: 0.0586 - binary_accuracy: 0.9776 - TPR: 0.9659 - FPR: 0.0185 - val_loss: 0.0295 - val_binary_accuracy: 0.9920 - val_TPR: 1.0000 - val_FPR: 0.0111\n",
      "Epoch 47/50\n",
      "36/36 [==============================] - 0s 10ms/step - loss: 0.0450 - binary_accuracy: 0.9850 - TPR: 0.9759 - FPR: 0.0110 - val_loss: 0.0289 - val_binary_accuracy: 0.9880 - val_TPR: 1.0000 - val_FPR: 0.0164\n",
      "Epoch 48/50\n",
      "36/36 [==============================] - 0s 11ms/step - loss: 0.0405 - binary_accuracy: 0.9849 - TPR: 0.9776 - FPR: 0.0104 - val_loss: 0.0404 - val_binary_accuracy: 0.9880 - val_TPR: 1.0000 - val_FPR: 0.0164\n",
      "Epoch 49/50\n",
      "36/36 [==============================] - 0s 10ms/step - loss: 0.0544 - binary_accuracy: 0.9727 - TPR: 0.9691 - FPR: 0.0266 - val_loss: 0.0380 - val_binary_accuracy: 0.9880 - val_TPR: 1.0000 - val_FPR: 0.0164\n",
      "Epoch 50/50\n",
      "36/36 [==============================] - 0s 10ms/step - loss: 0.0556 - binary_accuracy: 0.9792 - TPR: 0.9804 - FPR: 0.0205 - val_loss: 0.0274 - val_binary_accuracy: 0.9920 - val_TPR: 1.0000 - val_FPR: 0.0111\n"
     ]
    }
   ],
   "source": [
    "path = 'E:/peakonly/data/tof'\n",
    "rt,label,intensity = getdata(path)\n",
    "intensity2 = [data_resize(i,256) for i in intensity]\n",
    "feature = getfeature(intensity)\n",
    "intensity2 = np.array(intensity2)\n",
    "label2 =np.array(label).reshape(len(label),1)\n",
    "feature2 = np.array(feature)\n",
    "intensity3,fea3,label3 = randomize(intensity2, feature2,label2)\n",
    "\n",
    "x_train = intensity3[0:1800,:,:]\n",
    "x_ver = intensity3[1800:2050,:,:]\n",
    "x_test = intensity3[2050:,:,:]\n",
    "x2_train = fea3[0:1800,:,:]\n",
    "x2_ver = fea3[1800:2050,:,:]\n",
    "x2_test = fea3[2050:,:,:]\n",
    "y_train = label3[0:1800,:]\n",
    "y_ver = label3[1800:2050,:]\n",
    "y_test = label3[2050:,:]\n",
    "epochs = 50\n",
    "batch_size = 50\n",
    "model = dffROIModel()\n",
    "dffROI_model,history_dict = train(model,x_train, x2_train, y_train,x_ver,x2_ver, y_ver,\n",
    "          epochs,batch_size)"
   ]
  },
  {
   "cell_type": "code",
   "execution_count": 4,
   "id": "84cd9c97",
   "metadata": {},
   "outputs": [
    {
     "name": "stdout",
     "output_type": "stream",
     "text": [
      "14/14 [==============================] - 0s 15ms/step - loss: 0.0426 - binary_accuracy: 0.9841 - TPR: 0.9833 - FPR: 0.0128\n"
     ]
    }
   ],
   "source": [
    " result = model.evaluate([x_test,x2_test], y_test)"
   ]
  },
  {
   "cell_type": "code",
   "execution_count": 5,
   "id": "e6af6386",
   "metadata": {},
   "outputs": [],
   "source": [
    "dffROI_model.save('dffROI_model.h5')"
   ]
  },
  {
   "cell_type": "code",
   "execution_count": null,
   "id": "6980a842",
   "metadata": {},
   "outputs": [],
   "source": []
  }
 ],
 "metadata": {
  "kernelspec": {
   "display_name": "Python 3",
   "language": "python",
   "name": "python3"
  },
  "language_info": {
   "codemirror_mode": {
    "name": "ipython",
    "version": 3
   },
   "file_extension": ".py",
   "mimetype": "text/x-python",
   "name": "python",
   "nbconvert_exporter": "python",
   "pygments_lexer": "ipython3",
   "version": "3.6.13"
  }
 },
 "nbformat": 4,
 "nbformat_minor": 5
}