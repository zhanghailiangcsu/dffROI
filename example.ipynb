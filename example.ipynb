{
 "cells": [
  {
   "cell_type": "markdown",
   "id": "ec72d63d",
   "metadata": {},
   "source": [
    "### Load the required packages"
   ]
  },
  {
   "cell_type": "code",
   "execution_count": 4,
   "id": "0a66f6fb",
   "metadata": {},
   "outputs": [],
   "source": [
    "from model.Build_Model import dffROIModel\n",
    "from train.Evaluation_Metrics import TPR,FPR\n",
    "from train.Train_Model import train\n",
    "import numpy as np\n",
    "from kpic2.kpic_process import data_transform,get_kpic_roi, model_process\n",
    "import rpy2.robjects as robjects\n",
    "from rpy2.robjects import numpy2ri\n",
    "from tensorflow.keras.models import load_model\n",
    "from model.data_process import randomize\n",
    "import matplotlib.pyplot as plt\n",
    "import pandas as pd\n",
    "from sklearn.cross_decomposition import PLSRegression\n",
    "from sklearn.model_selection import train_test_split\n",
    "from sklearn.metrics import confusion_matrix\n",
    "import seaborn as sns \n",
    "from sklearn.linear_model import LinearRegression"
   ]
  },
  {
   "cell_type": "code",
   "execution_count": 5,
   "id": "7b6340b4",
   "metadata": {},
   "outputs": [],
   "source": [
    "def get_component(X):\n",
    "    svd = np.linalg.svd(X)\n",
    "    y = svd[1].reshape(len(svd[1]),1)\n",
    "    x = np.linspace(0,X.shape[0]-1,X.shape[0]).reshape(X.shape[0],1)\n",
    "    model = LinearRegression()\n",
    "    model = model.fit(x[12:,:], y[12:,:])\n",
    "    y2 = model.predict(x)\n",
    "    plt.scatter(x, y, c = 'r',marker='.',label = 'raw')\n",
    "    plt.plot(x,y2,c = 'b',label = 'Regression')\n",
    "    plt.xlabel('Number of component')\n",
    "    plt.ylabel('Eigenvalues')\n",
    "    plt.legend()\n",
    "    c = max([i for i in range(12) if y[i] > y2[i]])\n",
    "    return c"
   ]
  },
  {
   "cell_type": "markdown",
   "id": "42802104",
   "metadata": {},
   "source": [
    "### Import the functions in KPIC2 to implement the whole process of metabolomics processing"
   ]
  },
  {
   "cell_type": "code",
   "execution_count": 6,
   "id": "0c55d6e3",
   "metadata": {},
   "outputs": [],
   "source": [
    "numpy2ri.activate()\n",
    "robjects.r('''source('kpic2/kpic_process.R')''')\n",
    "kpic_pic = robjects.globalenv['kpic_pic']\n",
    "kpic_pic_set = robjects.globalenv['kpic_pic_set']\n",
    "kpic_pic_getpeak = robjects.globalenv['kpic_pic_getpeak']\n",
    "kpic_group = robjects.globalenv['kpic_group']\n",
    "kpic_iso = robjects.globalenv['kpic_iso']\n",
    "kpic_mat = robjects.globalenv['kpic_mat']\n",
    "kpic_fill = robjects.globalenv['kpic_fill']\n",
    "kpic_pattern = robjects.globalenv['kpic_pattern']\n",
    "kpic_select = robjects.globalenv['kpic_select']"
   ]
  },
  {
   "cell_type": "markdown",
   "id": "adf0174c",
   "metadata": {},
   "source": [
    "### Read example data and divide training set and validation set. \n",
    "#### The training example data is just an example to illustrate the training process. If you want to get the complete data, you can contact the author of peakonly. "
   ]
  },
  {
   "cell_type": "code",
   "execution_count": 31,
   "id": "5ae96295",
   "metadata": {},
   "outputs": [],
   "source": [
    "x1 = np.load('example/x1.npy')\n",
    "x2 = np.load('example/x2.npy')\n",
    "label = np.load('example/label.npy')\n",
    "x1,x2,label = randomize(x1, x2,label)\n",
    "x_train = x1[0:320,:,:]\n",
    "x_ver = x1[320:400,:,:]\n",
    "x2_train = x2[0:320,:,:]\n",
    "x2_ver = x2[320:400,:,:]\n",
    "y_train = label[0:320,:]\n",
    "y_ver = label[320:400,:]"
   ]
  },
  {
   "cell_type": "markdown",
   "id": "72671171",
   "metadata": {},
   "source": [
    "### Train dffROI model by using example data"
   ]
  },
  {
   "cell_type": "code",
   "execution_count": 32,
   "id": "86db3a86",
   "metadata": {},
   "outputs": [
    {
     "name": "stdout",
     "output_type": "stream",
     "text": [
      "Epoch 1/20\n",
      "32/32 [==============================] - 1s 15ms/step - loss: 0.6971 - binary_accuracy: 0.3743 - TPR: 0.0533 - FPR: 0.0047 - val_loss: 0.6857 - val_binary_accuracy: 0.7625 - val_TPR: 0.7066 - val_FPR: 0.0000e+00\n",
      "Epoch 2/20\n",
      "32/32 [==============================] - 0s 10ms/step - loss: 0.6810 - binary_accuracy: 0.7116 - TPR: 0.6497 - FPR: 0.2228 - val_loss: 0.6220 - val_binary_accuracy: 0.8625 - val_TPR: 0.9683 - val_FPR: 0.5000\n",
      "Epoch 3/20\n",
      "32/32 [==============================] - 0s 9ms/step - loss: 0.6170 - binary_accuracy: 0.7204 - TPR: 0.9563 - FPR: 0.7439 - val_loss: 0.4568 - val_binary_accuracy: 0.8500 - val_TPR: 0.9169 - val_FPR: 0.2917\n",
      "Epoch 4/20\n",
      "32/32 [==============================] - 0s 10ms/step - loss: 0.4773 - binary_accuracy: 0.8160 - TPR: 0.8915 - FPR: 0.3435 - val_loss: 0.3320 - val_binary_accuracy: 0.8625 - val_TPR: 0.8534 - val_FPR: 0.0833\n",
      "Epoch 5/20\n",
      "32/32 [==============================] - 0s 9ms/step - loss: 0.4264 - binary_accuracy: 0.7771 - TPR: 0.8259 - FPR: nan - val_loss: 0.3450 - val_binary_accuracy: 0.8625 - val_TPR: 0.8534 - val_FPR: 0.0833\n",
      "Epoch 6/20\n",
      "32/32 [==============================] - 0s 10ms/step - loss: 0.3457 - binary_accuracy: 0.8774 - TPR: 0.8921 - FPR: 0.1511 - val_loss: 0.2759 - val_binary_accuracy: 0.8625 - val_TPR: 0.8673 - val_FPR: 0.1250\n",
      "Epoch 7/20\n",
      "32/32 [==============================] - 0s 9ms/step - loss: 0.3520 - binary_accuracy: 0.8300 - TPR: 0.8734 - FPR: nan - val_loss: 0.2857 - val_binary_accuracy: 0.8625 - val_TPR: 0.8534 - val_FPR: 0.0833\n",
      "Epoch 8/20\n",
      "32/32 [==============================] - 0s 10ms/step - loss: 0.3217 - binary_accuracy: 0.8416 - TPR: 0.8782 - FPR: nan - val_loss: 0.2988 - val_binary_accuracy: 0.8625 - val_TPR: 0.8534 - val_FPR: 0.0833\n",
      "Epoch 9/20\n",
      "32/32 [==============================] - 0s 9ms/step - loss: 0.3157 - binary_accuracy: 0.8650 - TPR: 0.8848 - FPR: 0.1521 - val_loss: 0.2528 - val_binary_accuracy: 0.8750 - val_TPR: 0.8812 - val_FPR: 0.1250\n",
      "Epoch 10/20\n",
      "32/32 [==============================] - 0s 9ms/step - loss: 0.2897 - binary_accuracy: 0.8702 - TPR: 0.9045 - FPR: 0.1955 - val_loss: 0.2567 - val_binary_accuracy: 0.8750 - val_TPR: 0.8812 - val_FPR: 0.1250\n",
      "Epoch 11/20\n",
      "32/32 [==============================] - 0s 9ms/step - loss: 0.3599 - binary_accuracy: 0.8433 - TPR: 0.8984 - FPR: nan - val_loss: 0.2720 - val_binary_accuracy: 0.8750 - val_TPR: 0.8673 - val_FPR: 0.0833\n",
      "Epoch 12/20\n",
      "32/32 [==============================] - 0s 12ms/step - loss: 0.3655 - binary_accuracy: 0.8246 - TPR: 0.8422 - FPR: 0.1996 - val_loss: 0.2714 - val_binary_accuracy: 0.8625 - val_TPR: 0.8673 - val_FPR: 0.1250\n",
      "Epoch 13/20\n",
      "32/32 [==============================] - 0s 10ms/step - loss: 0.2855 - binary_accuracy: 0.8513 - TPR: 0.8750 - FPR: nan - val_loss: 0.2330 - val_binary_accuracy: 0.8750 - val_TPR: 0.8968 - val_FPR: 0.1667\n",
      "Epoch 14/20\n",
      "32/32 [==============================] - 0s 9ms/step - loss: 0.2865 - binary_accuracy: 0.8696 - TPR: 0.9139 - FPR: 0.1522 - val_loss: 0.2439 - val_binary_accuracy: 0.8875 - val_TPR: 0.8968 - val_FPR: 0.1250\n",
      "Epoch 15/20\n",
      "32/32 [==============================] - 0s 9ms/step - loss: 0.2683 - binary_accuracy: 0.8754 - TPR: 0.8931 - FPR: nan - val_loss: 0.2233 - val_binary_accuracy: 0.8750 - val_TPR: 0.8968 - val_FPR: 0.1667\n",
      "Epoch 16/20\n",
      "32/32 [==============================] - 0s 9ms/step - loss: 0.2920 - binary_accuracy: 0.8513 - TPR: 0.9328 - FPR: nan - val_loss: 0.2258 - val_binary_accuracy: 0.8750 - val_TPR: 0.8968 - val_FPR: 0.1667\n",
      "Epoch 17/20\n",
      "32/32 [==============================] - 0s 9ms/step - loss: 0.2387 - binary_accuracy: 0.9081 - TPR: 0.9381 - FPR: 0.1613 - val_loss: 0.2322 - val_binary_accuracy: 0.8750 - val_TPR: 0.8968 - val_FPR: 0.1667\n",
      "Epoch 18/20\n",
      "32/32 [==============================] - 0s 10ms/step - loss: 0.2379 - binary_accuracy: 0.8958 - TPR: 0.9341 - FPR: nan - val_loss: 0.2323 - val_binary_accuracy: 0.8750 - val_TPR: 0.8968 - val_FPR: 0.1667\n",
      "Epoch 19/20\n",
      "32/32 [==============================] - 0s 12ms/step - loss: 0.2346 - binary_accuracy: 0.8936 - TPR: 0.9355 - FPR: 0.1684 - val_loss: 0.2139 - val_binary_accuracy: 0.8875 - val_TPR: 0.9107 - val_FPR: 0.1667\n",
      "Epoch 20/20\n",
      "32/32 [==============================] - 0s 9ms/step - loss: 0.2260 - binary_accuracy: 0.8951 - TPR: 0.9336 - FPR: 0.1726 - val_loss: 0.2116 - val_binary_accuracy: 0.8875 - val_TPR: 0.9107 - val_FPR: 0.1667\n"
     ]
    }
   ],
   "source": [
    "epochs = 20\n",
    "batch_size = 10\n",
    "dffROI_model = dffROIModel()\n",
    "dffROI_model,history_dict = train(dffROI_model,x_train, x2_train, y_train,x_ver,x2_ver, y_ver,\n",
    "      epochs,batch_size)"
   ]
  },
  {
   "cell_type": "markdown",
   "id": "12a027ee",
   "metadata": {},
   "source": [
    "### Extract PICs using KPIC2"
   ]
  },
  {
   "cell_type": "code",
   "execution_count": 40,
   "id": "efa038f0",
   "metadata": {},
   "outputs": [],
   "source": [
    "filename = 'E:/evaluation/MTBLS120/pos'\n",
    "pics = kpic_pic_set(filename,level = 3000)"
   ]
  },
  {
   "cell_type": "markdown",
   "id": "dcbae1d6",
   "metadata": {},
   "source": [
    "### Use dffROI  to get false positive PICs"
   ]
  },
  {
   "cell_type": "code",
   "execution_count": 46,
   "id": "4fd7138e",
   "metadata": {},
   "outputs": [],
   "source": [
    "pics2 = list(pics)\n",
    "pics3 = [data_transform(i) for i in pics2]\n",
    "pics4 = get_kpic_roi(pics3)\n",
    "result = model_process(dffROI_model,pics4)"
   ]
  },
  {
   "cell_type": "markdown",
   "id": "15249e67",
   "metadata": {},
   "source": [
    "### Filter false positive PICs"
   ]
  },
  {
   "cell_type": "code",
   "execution_count": 47,
   "id": "f3f1ae89",
   "metadata": {},
   "outputs": [],
   "source": [
    "del_list = []\n",
    "for d in range(len(result)):\n",
    "    d0 = kpic_select(result[d],pics2[d])\n",
    "    del_list.append(d0)\n",
    "del_rlist = robjects.ListVector([(str(i), x) for i, x in enumerate(del_list)])"
   ]
  },
  {
   "cell_type": "markdown",
   "id": "49f5ab02",
   "metadata": {},
   "source": [
    "### Extract peaks on PICs"
   ]
  },
  {
   "cell_type": "code",
   "execution_count": 48,
   "id": "630086c7",
   "metadata": {},
   "outputs": [],
   "source": [
    "del_rlist = kpic_pic_getpeak(del_rlist)"
   ]
  },
  {
   "cell_type": "markdown",
   "id": "5e0c8480",
   "metadata": {},
   "source": [
    "### The peak table is obtained by processing the features using methods such as grouping, align, isotope removal, and missing value filling in KPIC2"
   ]
  },
  {
   "cell_type": "code",
   "execution_count": 49,
   "id": "dff9cfca",
   "metadata": {},
   "outputs": [
    {
     "name": "stdout",
     "output_type": "stream",
     "text": [
      "filling peaks of E:/evaluation/MTBLS120/pos/130615_Pos_115_1A.CDF \n"
     ]
    },
    {
     "name": "stderr",
     "output_type": "stream",
     "text": [
      "R[write to console]: Loading required package: Rcpp\n",
      "\n"
     ]
    },
    {
     "name": "stdout",
     "output_type": "stream",
     "text": [
      "filling peaks of E:/evaluation/MTBLS120/pos/130615_Pos_115_1B.CDF \n",
      "filling peaks of E:/evaluation/MTBLS120/pos/130615_Pos_115_1C.CDF \n",
      "filling peaks of E:/evaluation/MTBLS120/pos/130615_Pos_115_2A.CDF \n",
      "filling peaks of E:/evaluation/MTBLS120/pos/130615_Pos_115_2B.CDF \n",
      "filling peaks of E:/evaluation/MTBLS120/pos/130615_Pos_115_2C.CDF \n",
      "filling peaks of E:/evaluation/MTBLS120/pos/130615_Pos_115_3A.CDF \n",
      "filling peaks of E:/evaluation/MTBLS120/pos/130615_Pos_115_3B.CDF \n",
      "filling peaks of E:/evaluation/MTBLS120/pos/130615_Pos_115_3C.CDF \n",
      "filling peaks of E:/evaluation/MTBLS120/pos/130615_Pos_120_1A.CDF \n",
      "filling peaks of E:/evaluation/MTBLS120/pos/130615_Pos_120_1B.CDF \n",
      "filling peaks of E:/evaluation/MTBLS120/pos/130615_Pos_120_1C.CDF \n",
      "filling peaks of E:/evaluation/MTBLS120/pos/130615_Pos_120_2A.CDF \n",
      "filling peaks of E:/evaluation/MTBLS120/pos/130615_Pos_120_2B.CDF \n",
      "filling peaks of E:/evaluation/MTBLS120/pos/130615_Pos_120_2C.CDF \n",
      "filling peaks of E:/evaluation/MTBLS120/pos/130615_Pos_120_3A.CDF \n",
      "filling peaks of E:/evaluation/MTBLS120/pos/130615_Pos_120_3B.CDF \n",
      "filling peaks of E:/evaluation/MTBLS120/pos/130615_Pos_120_3C.CDF \n",
      "filling peaks of E:/evaluation/MTBLS120/pos/130615_Pos_131_1A.CDF \n",
      "filling peaks of E:/evaluation/MTBLS120/pos/130615_Pos_131_1B.CDF \n",
      "filling peaks of E:/evaluation/MTBLS120/pos/130615_Pos_131_1C.CDF \n",
      "filling peaks of E:/evaluation/MTBLS120/pos/130615_Pos_131_2A.CDF \n",
      "filling peaks of E:/evaluation/MTBLS120/pos/130615_Pos_131_2B.CDF \n",
      "filling peaks of E:/evaluation/MTBLS120/pos/130615_Pos_131_2C.CDF \n",
      "filling peaks of E:/evaluation/MTBLS120/pos/130615_Pos_131_3A.CDF \n",
      "filling peaks of E:/evaluation/MTBLS120/pos/130615_Pos_131_3B.CDF \n",
      "filling peaks of E:/evaluation/MTBLS120/pos/130615_Pos_131_3C.CDF \n",
      "filling peaks of E:/evaluation/MTBLS120/pos/130615_Pos_133_1A.CDF \n",
      "filling peaks of E:/evaluation/MTBLS120/pos/130615_Pos_133_1B.CDF \n",
      "filling peaks of E:/evaluation/MTBLS120/pos/130615_Pos_133_1C.CDF \n",
      "filling peaks of E:/evaluation/MTBLS120/pos/130615_Pos_133_2A.CDF \n",
      "filling peaks of E:/evaluation/MTBLS120/pos/130615_Pos_133_2B.CDF \n",
      "filling peaks of E:/evaluation/MTBLS120/pos/130615_Pos_133_2C.CDF \n",
      "filling peaks of E:/evaluation/MTBLS120/pos/130615_Pos_133_3A.CDF \n",
      "filling peaks of E:/evaluation/MTBLS120/pos/130615_Pos_133_3B.CDF \n",
      "filling peaks of E:/evaluation/MTBLS120/pos/130615_Pos_133_3C.CDF \n"
     ]
    }
   ],
   "source": [
    "groups_align = kpic_group(del_rlist)\n",
    "groups_align = kpic_iso(groups_align)\n",
    "data = kpic_mat(groups_align)\n",
    "data = kpic_fill(data)\n",
    "data = list(data)\n",
    "data[3] = np.array(data[3])\n",
    "df = np.array(data[3])"
   ]
  },
  {
   "cell_type": "markdown",
   "id": "7bc51a43",
   "metadata": {},
   "source": [
    "### Data set partitioning for PLS-DA modeling and determining the number of principal components"
   ]
  },
  {
   "cell_type": "code",
   "execution_count": 50,
   "id": "0f528f17",
   "metadata": {},
   "outputs": [
    {
     "data": {
      "image/png": "[encoded data removed]",
      "text/plain": [
       "<Figure size 432x288 with 1 Axes>"
      ]
     },
     "metadata": {
      "needs_background": "light"
     },
     "output_type": "display_data"
    }
   ],
   "source": [
    "X = df[6:,:]\n",
    "y1 = np.zeros((9,1))\n",
    "y2 = 1*np.ones((9,1))\n",
    "y3 = 2*np.ones((9,1))\n",
    "y4 = 3*np.ones((9,1))\n",
    "y = np.vstack((y1,y2,y3,y4))\n",
    "Y = y.ravel()\n",
    "Y = pd.get_dummies(Y)\n",
    "train_X,test_X, train_y, test_y = train_test_split(X,  Y, test_size=0.3)\n",
    "n_components = get_component(X)"
   ]
  },
  {
   "cell_type": "markdown",
   "id": "fee071dd",
   "metadata": {},
   "source": [
    "### Build the PLS-DA model and test the model performance on the test set. The results are displayed with a confusion matrix"
   ]
  },
  {
   "cell_type": "code",
   "execution_count": 51,
   "id": "4647e561",
   "metadata": {},
   "outputs": [
    {
     "data": {
      "text/plain": [
       "<AxesSubplot:>"
      ]
     },
     "execution_count": 51,
     "metadata": {},
     "output_type": "execute_result"
    },
    {
     "data": {
      "image/png": "[encoded data removed]",
      "text/plain": [
       "<Figure size 432x288 with 2 Axes>"
      ]
     },
     "metadata": {
      "needs_background": "light"
     },
     "output_type": "display_data"
    }
   ],
   "source": [
    "model = PLSRegression(n_components)\n",
    "model.fit(train_X,train_y)\n",
    "y_pred = model.predict(test_X)\n",
    "y_pred = np.array([np.argmax(i) for i in y_pred])\n",
    "test_y = np.array([np.argmax(test_y.iloc[i,:]) for i in range(test_y.shape[0])])\n",
    "yp = model.predict(X)\n",
    "yp = np.array([np.argmax(i) for i in yp])\n",
    "yt = y.ravel()  \n",
    "test_mat = confusion_matrix(test_y,y_pred,labels=[0,1,2,3])\n",
    "test_mat = pd.DataFrame(test_mat)\n",
    "test_mat.columns = ['DM','SM3','WT','SM19']\n",
    "test_mat.index = ['DM','SM3','WT','SM19']\n",
    "sns.heatmap(test_mat,annot=True,center = 1,cmap=\"Blues\")"
   ]
  },
  {
   "cell_type": "code",
   "execution_count": null,
   "id": "86a3768c",
   "metadata": {},
   "outputs": [],
   "source": []
  }
 ],
 "metadata": {
  "kernelspec": {
   "display_name": "Python 3",
   "language": "python",
   "name": "python3"
  },
  "language_info": {
   "codemirror_mode": {
    "name": "ipython",
    "version": 3
   },
   "file_extension": ".py",
   "mimetype": "text/x-python",
   "name": "python",
   "nbconvert_exporter": "python",
   "pygments_lexer": "ipython3",
   "version": "3.6.13"
  }
 },
 "nbformat": 4,
 "nbformat_minor": 5
}
